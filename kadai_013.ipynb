{
  "nbformat": 4,
  "nbformat_minor": 0,
  "metadata": {
    "colab": {
      "provenance": [],
      "authorship_tag": "ABX9TyPBiuup74o9tpF/rzJ7Fkc3",
      "include_colab_link": true
    },
    "kernelspec": {
      "name": "python3",
      "display_name": "Python 3"
    },
    "language_info": {
      "name": "python"
    }
  },
  "cells": [
    {
      "cell_type": "markdown",
      "metadata": {
        "id": "view-in-github",
        "colab_type": "text"
      },
      "source": [
        "<a href=\"https://colab.research.google.com/github/takebay22/python-basic-kadai/blob/main/kadai_013.ipynb\" target=\"_parent\"><img src=\"https://colab.research.google.com/assets/colab-badge.svg\" alt=\"Open In Colab\"/></a>"
      ]
    },
    {
      "cell_type": "code",
      "execution_count": 3,
      "metadata": {
        "colab": {
          "base_uri": "https://localhost:8080/"
        },
        "id": "1AWMHcSSXmoR",
        "outputId": "90e9bc1b-82a1-479f-e5fa-0eb38c29ff8d"
      },
      "outputs": [
        {
          "output_type": "stream",
          "name": "stdout",
          "text": [
            "税込価格: 1100.0\n"
          ]
        }
      ],
      "source": [
        "def calculate_total_price(price, tax_rate):\n",
        "#    :param price: 商品の金額\n",
        "#    :param tax_rate: 消費税率（10%）\n",
        "#    :return: 税込み価格\n",
        "\n",
        "    total_price = price * (1 + tax_rate)\n",
        "    return total_price\n",
        "\n",
        "product_price = 1000  # 商品の金額\n",
        "tax_rate = 0.10  # 消費税率（10%）\n",
        "\n",
        "# 税込み価格を計算\n",
        "total = calculate_total_price(product_price, tax_rate)\n",
        "print(f\"税込価格: {total}\")"
      ]
    }
  ]
}