{
  "nbformat": 4,
  "nbformat_minor": 0,
  "metadata": {
    "colab": {
      "provenance": [],
      "authorship_tag": "ABX9TyNcuP+w4+kQ7VBcF3hzDek9",
      "include_colab_link": true
    },
    "kernelspec": {
      "name": "python3",
      "display_name": "Python 3"
    },
    "language_info": {
      "name": "python"
    }
  },
  "cells": [
    {
      "cell_type": "markdown",
      "metadata": {
        "id": "view-in-github",
        "colab_type": "text"
      },
      "source": [
        "<a href=\"https://colab.research.google.com/github/takebay22/python-basic-kadai/blob/main/kadai_007.ipynb\" target=\"_parent\"><img src=\"https://colab.research.google.com/assets/colab-badge.svg\" alt=\"Open In Colab\"/></a>"
      ]
    },
    {
      "cell_type": "code",
      "execution_count": 3,
      "metadata": {
        "colab": {
          "base_uri": "https://localhost:8080/"
        },
        "id": "dgFMS0kgCwW7",
        "outputId": "6cfd28e6-fb8a-4d28-b770-5262a926e0b1"
      },
      "outputs": [
        {
          "output_type": "stream",
          "name": "stdout",
          "text": [
            "水曜日は晴れです\n",
            "晴れ\n"
          ]
        }
      ],
      "source": [
        "array = [\"月曜日は晴れです\", \"火曜日は雨です\", \"水曜日は晴れです\", \"木曜日は晴れです\", \"金曜日は曇りです\", \"土曜日は曇りのち雨です\", \"日曜日は雷雨です\"]\n",
        "# 水曜日の天気を出力\n",
        "print(array[2])\n",
        "dictionary = {\"mon\": \"晴れ\",\"tue\": \"雨\",\"wed\": \"晴れ\",\"thu\": \"晴れ\",\"fri\": \"曇り\",\"sat\": \"曇のち雨\",\"sun\": \"雷雨\"}\n",
        "# 水曜日の天気を出力\n",
        "print(dictionary[\"wed\"])"
      ]
    }
  ]
}